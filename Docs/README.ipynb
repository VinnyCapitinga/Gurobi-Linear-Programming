{
 "cells": [
  {
   "cell_type": "markdown",
   "id": "8ad0266d",
   "metadata": {},
   "source": [
    "# Referências e Materiais de Apoio\n",
    "\n",
    " [Documentação oficial do Gurobi](https://www.gurobi.com/documentation/)\n",
    "\n",
    " [Pesquisa Operacional Engenharia de Produção DEPROT UFRGS Profs Flavio Fogliatto Ph.D](http://www.producao.ufrgs.br/arquivos/disciplinas/382_po_apostila_completa_mais_livro.pdf)\n",
    " "
   ]
  },
  {
   "cell_type": "markdown",
   "id": "b75c5a89",
   "metadata": {},
   "source": [
    "# Lista de Questões \n",
    "\n",
    "A lista de exercícios que serviu de base para este projeto foi elaborada pela  \n",
    "**Profa. Dra. Tatiane Fernandes Figueiredo**, no contexto da disciplina de *Matemática Computacional*"
   ]
  }
 ],
 "metadata": {
  "kernelspec": {
   "display_name": "Python 3",
   "language": "python",
   "name": "python3"
  },
  "language_info": {
   "name": "python",
   "version": "3.12.0"
  }
 },
 "nbformat": 4,
 "nbformat_minor": 5
}
